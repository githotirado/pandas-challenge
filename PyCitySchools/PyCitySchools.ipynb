{
 "cells": [
  {
   "cell_type": "code",
   "execution_count": null,
   "id": "7cd42670-6ead-4abe-b8b8-12e9e9d3222c",
   "metadata": {},
   "outputs": [],
   "source": [
    "import pandas as pd\n",
    "import pathlib"
   ]
  },
  {
   "cell_type": "code",
   "execution_count": null,
   "id": "4d311dcb-55f8-4d60-af10-3c52d77957e2",
   "metadata": {},
   "outputs": [],
   "source": [
    "city_schools = pathlib.Path('Resource/')"
   ]
  }
 ],
 "metadata": {
  "kernelspec": {
   "display_name": "Python 3",
   "language": "python",
   "name": "python3"
  },
  "language_info": {
   "codemirror_mode": {
    "name": "ipython",
    "version": 3
   },
   "file_extension": ".py",
   "mimetype": "text/x-python",
   "name": "python",
   "nbconvert_exporter": "python",
   "pygments_lexer": "ipython3",
   "version": "3.8.8"
  }
 },
 "nbformat": 4,
 "nbformat_minor": 5
}
